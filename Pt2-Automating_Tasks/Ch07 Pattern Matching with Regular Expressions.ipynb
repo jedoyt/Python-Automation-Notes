{
 "cells": [
  {
   "cell_type": "markdown",
   "metadata": {},
   "source": [
    "# Finding Patterns of Text Without Regular Expressions\n",
    "Say you want to find a phone number in a string. You know the pattern:\n",
    "three numbers, a hyphen, three numbers, a hyphen, and four numbers.\n",
    "\n",
    "Here’s an example: 415-555-4242."
   ]
  },
  {
   "cell_type": "code",
   "execution_count": 2,
   "metadata": {},
   "outputs": [
    {
     "name": "stdout",
     "output_type": "stream",
     "text": [
      "415-555-4242 is a phone number:\n",
      "True\n",
      "Moshi moshi is a phone number:\n",
      "False\n"
     ]
    }
   ],
   "source": [
    "# Let’s use a function named isPhoneNumber() to check whether a string matches this pattern, returning either True or False.\n",
    "def isPhoneNumber(text):\n",
    "    if len(text) != 12:              # First the code checks that the string is exactly 12 characters\n",
    "        return False\n",
    "    \n",
    "    for i in range(0, 3):\n",
    "        if not text[i].isdecimal():  # The rest of the function checks that the string follows the pattern of a phone number: \n",
    "            return False             #                              The number must have the first hyphen after the area code\n",
    "    \n",
    "    if text[3] != '-':               # three more numeric characters\n",
    "        return False\n",
    "    \n",
    "    for i in range(4, 7):\n",
    "        if not text[i].isdecimal():\n",
    "            return False\n",
    "    if text[7] != '-':               # then another hyphen\n",
    "        return False\n",
    "    for i in range(8, 12):\n",
    "        if not text[i].isdecimal():  # and finally four more numbers\n",
    "            return False\n",
    "    return True                      # If the program execution manages to get past all the checks, it returns True\n",
    "\n",
    "print('415-555-4242 is a phone number:')\n",
    "print(isPhoneNumber('415-555-4242'))\n",
    "print('Moshi moshi is a phone number:')\n",
    "print(isPhoneNumber('Moshi moshi'))"
   ]
  },
  {
   "cell_type": "code",
   "execution_count": null,
   "metadata": {},
   "outputs": [],
   "source": []
  },
  {
   "cell_type": "code",
   "execution_count": null,
   "metadata": {},
   "outputs": [],
   "source": []
  },
  {
   "cell_type": "code",
   "execution_count": null,
   "metadata": {},
   "outputs": [],
   "source": []
  },
  {
   "cell_type": "code",
   "execution_count": null,
   "metadata": {},
   "outputs": [],
   "source": []
  },
  {
   "cell_type": "code",
   "execution_count": null,
   "metadata": {},
   "outputs": [],
   "source": []
  }
 ],
 "metadata": {
  "kernelspec": {
   "display_name": "Python 3",
   "language": "python",
   "name": "python3"
  },
  "language_info": {
   "codemirror_mode": {
    "name": "ipython",
    "version": 3
   },
   "file_extension": ".py",
   "mimetype": "text/x-python",
   "name": "python",
   "nbconvert_exporter": "python",
   "pygments_lexer": "ipython3",
   "version": "3.6.4"
  }
 },
 "nbformat": 4,
 "nbformat_minor": 2
}
